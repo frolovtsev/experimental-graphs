{
 "cells": [
  {
   "cell_type": "code",
   "execution_count": 22,
   "id": "3709e711",
   "metadata": {},
   "outputs": [],
   "source": [
    "import openpyxl\n",
    "import numpy as np\n",
    "import matplotlib.pyplot as plt\n",
    "wookbook = openpyxl.load_workbook(\"hell.xlsx\")\n",
    "worksheet = wookbook.active\n",
    "\n",
    "x = np.array([[i.value for i in m] for m in worksheet['A2':'A11']])\n",
    "y = np.array([[i.value for i in m] for m in worksheet['B2':'B11']])\n",
    "errory = np.array([[i.value for i in m] for m in worksheet['C2':'C11']])\n",
    "\n",
    "Sn, Sx, Sxx, Sy, Sxy, number = sum(errory)/n, 0, 0, 0, 0, len(x) \n",
    "for i in range(n):\n",
    "    Sx=Sx+x[i]\n",
    "    Sxx=Sxx+x[i]*x[i]\n",
    "    Sy=Sy+y[i]\n",
    "    Sxy=Sxy+x[i]*y[i]\n",
    "town=n*Sxx-Sx*Sx\n",
    "townA=n*Sxy-Sx*Sy\n",
    "townB=Sxx*Sy-Sx*Sxy\n",
    "\n",
    "A=townA/town\n",
    "B=townB/town\n",
    "\n",
    "Sa=Sn*((abs(n/town))**0.5)\n",
    "Sb=Sn*((abs(Sxx/town))**0.5)"
   ]
  },
  {
   "cell_type": "code",
   "execution_count": 18,
   "id": "7c126d23",
   "metadata": {},
   "outputs": [
    {
     "name": "stdout",
     "output_type": "stream",
     "text": [
      "[0.02938769]\n"
     ]
    }
   ],
   "source": [
    "print(Sb)"
   ]
  },
  {
   "cell_type": "code",
   "execution_count": 45,
   "id": "9ba66e4c",
   "metadata": {},
   "outputs": [
    {
     "data": {
      "image/png": "[encoded data removed]",
      "text/plain": [
       "<Figure size 432x288 with 1 Axes>"
      ]
     },
     "metadata": {
      "needs_background": "light"
     },
     "output_type": "display_data"
    },
    {
     "name": "stdout",
     "output_type": "stream",
     "text": [
      " А = [0.11893939] ± [0.00550482] \n",
      " В = [0.01467273] ± [0.02938769]\n"
     ]
    }
   ],
   "source": [
    "plt.ylabel('Напряжение, В')\n",
    "plt.xlabel('Сила тока, А')\n",
    "plt.title('Вольт-амперная характеристика неизвестного элемента')\n",
    "\n",
    "plt.grid()\n",
    "\n",
    "plt.errorbar(x, y, xerr = 0, yerr = float(Sn), fmt = 'o', ecolor='blue')\n",
    "\n",
    "x = np.linspace(min(x)-n/10, max(x)+n/10, 300)\n",
    "y = A*x+B\n",
    "\n",
    "plt.plot(x, y)\n",
    "plt.show()\n",
    "\n",
    "print(\" А =\",A,\"±\",Sa,\"\\n В =\",B,\"±\",Sb)"
   ]
  },
  {
   "cell_type": "code",
   "execution_count": null,
   "id": "8ff2297a",
   "metadata": {},
   "outputs": [],
   "source": []
  },
  {
   "cell_type": "code",
   "execution_count": null,
   "id": "fb6bf1a2",
   "metadata": {},
   "outputs": [],
   "source": []
  },
  {
   "cell_type": "code",
   "execution_count": null,
   "id": "49f27d8a",
   "metadata": {},
   "outputs": [],
   "source": []
  }
 ],
 "metadata": {
  "kernelspec": {
   "display_name": "Python 3",
   "language": "python",
   "name": "python3"
  },
  "language_info": {
   "codemirror_mode": {
    "name": "ipython",
    "version": 3
   },
   "file_extension": ".py",
   "mimetype": "text/x-python",
   "name": "python",
   "nbconvert_exporter": "python",
   "pygments_lexer": "ipython3",
   "version": "3.8.8"
  }
 },
 "nbformat": 4,
 "nbformat_minor": 5
}
